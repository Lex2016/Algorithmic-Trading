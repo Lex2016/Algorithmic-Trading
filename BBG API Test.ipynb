{
 "cells": [
  {
   "cell_type": "code",
   "execution_count": 2,
   "metadata": {
    "collapsed": false
   },
   "outputs": [],
   "source": [
    "from tia.bbg import LocalTerminal\n",
    "import pandas as pd"
   ]
  },
  {
   "cell_type": "code",
   "execution_count": 4,
   "metadata": {
    "collapsed": false
   },
   "outputs": [
    {
     "data": {
      "text/html": [
       "<div>\n",
       "<table border=\"1\" class=\"dataframe\">\n",
       "  <thead>\n",
       "    <tr style=\"text-align: right;\">\n",
       "      <th></th>\n",
       "      <th>PX_LAST</th>\n",
       "      <th>GICS_SECTOR_NAME</th>\n",
       "      <th>VOLATILITY_30D</th>\n",
       "    </tr>\n",
       "  </thead>\n",
       "  <tbody>\n",
       "    <tr>\n",
       "      <th>MSFT US EQUITY</th>\n",
       "      <td>62.58</td>\n",
       "      <td>Information Technology</td>\n",
       "      <td>20.414003</td>\n",
       "    </tr>\n",
       "  </tbody>\n",
       "</table>\n",
       "</div>"
      ],
      "text/plain": [
       "                PX_LAST        GICS_SECTOR_NAME  VOLATILITY_30D\n",
       "MSFT US EQUITY    62.58  Information Technology       20.414003"
      ]
     },
     "execution_count": 4,
     "metadata": {},
     "output_type": "execute_result"
    }
   ],
   "source": [
    "resp = LocalTerminal.get_reference_data('MSFT US EQUITY', ['PX_LAST', 'GICS_SECTOR_NAME', 'VOLATILITY_30D'])\n",
    "resp.as_frame()"
   ]
  },
  {
   "cell_type": "code",
   "execution_count": 7,
   "metadata": {
    "collapsed": false
   },
   "outputs": [
    {
     "data": {
      "text/html": [
       "<div>\n",
       "<table border=\"1\" class=\"dataframe\">\n",
       "  <thead>\n",
       "    <tr style=\"text-align: right;\">\n",
       "      <th></th>\n",
       "      <th>PX_LAST</th>\n",
       "      <th>GICS_SECTOR_NAME</th>\n",
       "    </tr>\n",
       "  </thead>\n",
       "  <tbody>\n",
       "    <tr>\n",
       "      <th>ED1 COMDTY</th>\n",
       "      <td>98.9975</td>\n",
       "      <td>NaN</td>\n",
       "    </tr>\n",
       "    <tr>\n",
       "      <th>MSFT US EQUITY</th>\n",
       "      <td>62.5800</td>\n",
       "      <td>Information Technology</td>\n",
       "    </tr>\n",
       "  </tbody>\n",
       "</table>\n",
       "</div>"
      ],
      "text/plain": [
       "                PX_LAST        GICS_SECTOR_NAME\n",
       "ED1 COMDTY      98.9975                     NaN\n",
       "MSFT US EQUITY  62.5800  Information Technology"
      ]
     },
     "execution_count": 7,
     "metadata": {},
     "output_type": "execute_result"
    }
   ],
   "source": [
    "resp = LocalTerminal.get_reference_data(['ED1 COMDTY', 'MSFT US EQUITY'], ['PX_LAST', 'GICS_SECTOR_NAME'], ignore_field_error=1)\n",
    "resp.as_frame()"
   ]
  },
  {
   "cell_type": "code",
   "execution_count": 12,
   "metadata": {
    "collapsed": false
   },
   "outputs": [
    {
     "data": {
      "text/html": [
       "<div>\n",
       "<table border=\"1\" class=\"dataframe\">\n",
       "  <thead>\n",
       "    <tr>\n",
       "      <th></th>\n",
       "      <th>MSFT US EQUITY</th>\n",
       "    </tr>\n",
       "    <tr>\n",
       "      <th></th>\n",
       "      <th>PX_LAST</th>\n",
       "    </tr>\n",
       "    <tr>\n",
       "      <th>date</th>\n",
       "      <th></th>\n",
       "    </tr>\n",
       "  </thead>\n",
       "  <tbody>\n",
       "    <tr>\n",
       "      <th>2014-01-02</th>\n",
       "      <td>37.16</td>\n",
       "    </tr>\n",
       "    <tr>\n",
       "      <th>2014-01-03</th>\n",
       "      <td>36.91</td>\n",
       "    </tr>\n",
       "    <tr>\n",
       "      <th>2014-01-06</th>\n",
       "      <td>36.13</td>\n",
       "    </tr>\n",
       "    <tr>\n",
       "      <th>2014-01-07</th>\n",
       "      <td>36.41</td>\n",
       "    </tr>\n",
       "    <tr>\n",
       "      <th>2014-01-08</th>\n",
       "      <td>35.76</td>\n",
       "    </tr>\n",
       "  </tbody>\n",
       "</table>\n",
       "</div>"
      ],
      "text/plain": [
       "           MSFT US EQUITY\n",
       "                  PX_LAST\n",
       "date                     \n",
       "2014-01-02          37.16\n",
       "2014-01-03          36.91\n",
       "2014-01-06          36.13\n",
       "2014-01-07          36.41\n",
       "2014-01-08          35.76"
      ]
     },
     "execution_count": 12,
     "metadata": {},
     "output_type": "execute_result"
    }
   ],
   "source": [
    "# Single SID, Multiple Valid Fields\n",
    "resp = LocalTerminal.get_historical('MSFT US EQUITY', ['PX_LAST'], start='1/1/2014', end='3/1/2014')\n",
    "resp.as_frame().head()"
   ]
  },
  {
   "cell_type": "code",
   "execution_count": 10,
   "metadata": {
    "collapsed": false
   },
   "outputs": [
    {
     "data": {
      "text/html": [
       "<div>\n",
       "<table border=\"1\" class=\"dataframe\">\n",
       "  <thead>\n",
       "    <tr>\n",
       "      <th></th>\n",
       "      <th colspan=\"2\" halign=\"left\">IBM US EQUITY</th>\n",
       "      <th colspan=\"2\" halign=\"left\">MSFT US EQUITY</th>\n",
       "    </tr>\n",
       "    <tr>\n",
       "      <th></th>\n",
       "      <th>PX_OPEN</th>\n",
       "      <th>PX_LAST</th>\n",
       "      <th>PX_OPEN</th>\n",
       "      <th>PX_LAST</th>\n",
       "    </tr>\n",
       "    <tr>\n",
       "      <th>date</th>\n",
       "      <th></th>\n",
       "      <th></th>\n",
       "      <th></th>\n",
       "      <th></th>\n",
       "    </tr>\n",
       "  </thead>\n",
       "  <tbody>\n",
       "    <tr>\n",
       "      <th>2014-01-02</th>\n",
       "      <td>187.21</td>\n",
       "      <td>185.53</td>\n",
       "      <td>37.350</td>\n",
       "      <td>37.16</td>\n",
       "    </tr>\n",
       "    <tr>\n",
       "      <th>2014-01-03</th>\n",
       "      <td>185.83</td>\n",
       "      <td>186.64</td>\n",
       "      <td>37.200</td>\n",
       "      <td>36.91</td>\n",
       "    </tr>\n",
       "    <tr>\n",
       "      <th>2014-01-06</th>\n",
       "      <td>187.15</td>\n",
       "      <td>186.00</td>\n",
       "      <td>36.850</td>\n",
       "      <td>36.13</td>\n",
       "    </tr>\n",
       "    <tr>\n",
       "      <th>2014-01-07</th>\n",
       "      <td>186.39</td>\n",
       "      <td>189.71</td>\n",
       "      <td>36.325</td>\n",
       "      <td>36.41</td>\n",
       "    </tr>\n",
       "    <tr>\n",
       "      <th>2014-01-08</th>\n",
       "      <td>189.33</td>\n",
       "      <td>187.97</td>\n",
       "      <td>36.000</td>\n",
       "      <td>35.76</td>\n",
       "    </tr>\n",
       "  </tbody>\n",
       "</table>\n",
       "</div>"
      ],
      "text/plain": [
       "           IBM US EQUITY         MSFT US EQUITY        \n",
       "                 PX_OPEN PX_LAST        PX_OPEN PX_LAST\n",
       "date                                                   \n",
       "2014-01-02        187.21  185.53         37.350   37.16\n",
       "2014-01-03        185.83  186.64         37.200   36.91\n",
       "2014-01-06        187.15  186.00         36.850   36.13\n",
       "2014-01-07        186.39  189.71         36.325   36.41\n",
       "2014-01-08        189.33  187.97         36.000   35.76"
      ]
     },
     "execution_count": 10,
     "metadata": {},
     "output_type": "execute_result"
    }
   ],
   "source": [
    "# Multiple SIDs, Multiple Valid Fields\n",
    "resp = LocalTerminal.get_historical(['IBM US EQUITY', 'MSFT US EQUITY'], ['PX_OPEN', 'PX_LAST'], start='1/1/2014', end='3/1/2014')\n",
    "resp.as_frame().head()"
   ]
  },
  {
   "cell_type": "code",
   "execution_count": 11,
   "metadata": {
    "collapsed": false
   },
   "outputs": [
    {
     "data": {
      "text/html": [
       "<div>\n",
       "<table border=\"1\" class=\"dataframe\">\n",
       "  <thead>\n",
       "    <tr>\n",
       "      <th></th>\n",
       "      <th colspan=\"2\" halign=\"left\">IBM US EQUITY</th>\n",
       "      <th colspan=\"2\" halign=\"left\">MSFT US EQUITY</th>\n",
       "    </tr>\n",
       "    <tr>\n",
       "      <th></th>\n",
       "      <th>PX_OPEN</th>\n",
       "      <th>PX_LAST</th>\n",
       "      <th>PX_OPEN</th>\n",
       "      <th>PX_LAST</th>\n",
       "    </tr>\n",
       "    <tr>\n",
       "      <th>date</th>\n",
       "      <th></th>\n",
       "      <th></th>\n",
       "      <th></th>\n",
       "      <th></th>\n",
       "    </tr>\n",
       "  </thead>\n",
       "  <tbody>\n",
       "    <tr>\n",
       "      <th>2014-01-03</th>\n",
       "      <td>185.320</td>\n",
       "      <td>186.64</td>\n",
       "      <td>37.22</td>\n",
       "      <td>36.910</td>\n",
       "    </tr>\n",
       "    <tr>\n",
       "      <th>2014-01-10</th>\n",
       "      <td>187.150</td>\n",
       "      <td>187.26</td>\n",
       "      <td>36.85</td>\n",
       "      <td>36.040</td>\n",
       "    </tr>\n",
       "    <tr>\n",
       "      <th>2014-01-17</th>\n",
       "      <td>186.260</td>\n",
       "      <td>190.09</td>\n",
       "      <td>35.99</td>\n",
       "      <td>36.380</td>\n",
       "    </tr>\n",
       "    <tr>\n",
       "      <th>2014-01-24</th>\n",
       "      <td>190.230</td>\n",
       "      <td>179.64</td>\n",
       "      <td>36.82</td>\n",
       "      <td>36.805</td>\n",
       "    </tr>\n",
       "    <tr>\n",
       "      <th>2014-01-31</th>\n",
       "      <td>179.605</td>\n",
       "      <td>176.68</td>\n",
       "      <td>36.87</td>\n",
       "      <td>37.840</td>\n",
       "    </tr>\n",
       "  </tbody>\n",
       "</table>\n",
       "</div>"
      ],
      "text/plain": [
       "           IBM US EQUITY         MSFT US EQUITY        \n",
       "                 PX_OPEN PX_LAST        PX_OPEN PX_LAST\n",
       "date                                                   \n",
       "2014-01-03       185.320  186.64          37.22  36.910\n",
       "2014-01-10       187.150  187.26          36.85  36.040\n",
       "2014-01-17       186.260  190.09          35.99  36.380\n",
       "2014-01-24       190.230  179.64          36.82  36.805\n",
       "2014-01-31       179.605  176.68          36.87  37.840"
      ]
     },
     "execution_count": 11,
     "metadata": {},
     "output_type": "execute_result"
    }
   ],
   "source": [
    "# Weekly data\n",
    "resp = LocalTerminal.get_historical(['IBM US EQUITY', 'MSFT US EQUITY'], ['PX_OPEN', 'PX_LAST'], \n",
    "                                         start='1/1/2014', end='3/1/2014', period='WEEKLY')\n",
    "resp.as_frame().head()"
   ]
  },
  {
   "cell_type": "markdown",
   "metadata": {},
   "source": [
    "# Using the Data Manager"
   ]
  },
  {
   "cell_type": "code",
   "execution_count": 14,
   "metadata": {
    "collapsed": true
   },
   "outputs": [],
   "source": [
    "import pandas as pd\n",
    "import tia.bbg.datamgr as dm"
   ]
  },
  {
   "cell_type": "code",
   "execution_count": 17,
   "metadata": {
    "collapsed": true
   },
   "outputs": [],
   "source": [
    "# create a DataManager for simpler api access\n",
    "mgr = dm.BbgDataManager()\n",
    "# retrieve a single security accessor from the manager\n",
    "msft = mgr['BHIH7 COMDTY']"
   ]
  },
  {
   "cell_type": "code",
   "execution_count": 18,
   "metadata": {
    "collapsed": false
   },
   "outputs": [
    {
     "data": {
      "text/plain": [
       "(221.5, 223.0)"
      ]
     },
     "execution_count": 18,
     "metadata": {},
     "output_type": "execute_result"
    }
   ],
   "source": [
    "#  Can now access any Bloomberg field (as long as it is upper case)\n",
    "msft.PX_LAST, msft.PX_OPEN"
   ]
  },
  {
   "cell_type": "code",
   "execution_count": null,
   "metadata": {
    "collapsed": true
   },
   "outputs": [],
   "source": []
  }
 ],
 "metadata": {
  "kernelspec": {
   "display_name": "Python 2",
   "language": "python",
   "name": "python2"
  },
  "language_info": {
   "codemirror_mode": {
    "name": "ipython",
    "version": 2
   },
   "file_extension": ".py",
   "mimetype": "text/x-python",
   "name": "python",
   "nbconvert_exporter": "python",
   "pygments_lexer": "ipython2",
   "version": "2.7.12"
  }
 },
 "nbformat": 4,
 "nbformat_minor": 0
}
